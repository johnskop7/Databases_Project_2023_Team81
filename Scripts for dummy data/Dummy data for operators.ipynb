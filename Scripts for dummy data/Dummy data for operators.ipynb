{
 "cells": [
  {
   "cell_type": "code",
   "execution_count": 5,
   "metadata": {},
   "outputs": [
    {
     "name": "stdout",
     "output_type": "stream",
     "text": [
      "('Maria Brown', 'kristin60', 'e8MKFdow%E', 'romerolance@example.org','(870)747-9717','1','1'),\n",
      "('Steven Nixon', 'jhill', '(4f!Rxc+Ff', 'dennisrusso@example.com','9671127828','2','1'),\n",
      "('Steven Frazier', 'eatonjonathan', '@0_I%ywv7T', 'kristiadams@example.net','342-283-3779x424','3','1'),\n",
      "('Larry Drake', 'qfernandez', 'r+QKo2wP*0', 'msanders@example.com','349-301-8402x47751','4','1'),\n",
      "('Johnny Medina', 'patelbrad', 'J$$kD1WBDp', 'bennettreginald@example.org','(327)763-2867x2635','5','1'),\n",
      "('Kevin Thomas', 'kristin93', '$A9eYCi@r9', 'danielgregory@example.org','948.817.1472','6','1'),\n",
      "('David Flores', 'brendan21', 'L8rZU*Gz_d', 'tinawong@example.com','(459)206-5360x5928','7','1'),\n",
      "('Paul Andrade', 'jclark', '!@VaDTqC2z', 'danielruiz@example.org','077.982.3338','8','1'),\n"
     ]
    }
   ],
   "source": [
    "from faker import Faker\n",
    "import random\n",
    "\n",
    "# Create a Faker instance\n",
    "fake = Faker()\n",
    "administrator_id = 1\n",
    "for i in range(1,9):\n",
    "    school_id = i\n",
    "    full_name = fake.name()\n",
    "    username = fake.user_name()\n",
    "    password = fake.password()\n",
    "    email = fake.email()\n",
    "    phone_number = fake.phone_number()\n",
    "    print(\"('\"+str(full_name)+\"', '\"+str(username)+\"', '\"+str(password)+\"', '\"+str(email)+\"','\"+str(phone_number)+\"','\"+str(school_id)+\"','\"+str(administrator_id)+\"'),\")\n",
    "    \n"
   ]
  }
 ],
 "metadata": {
  "kernelspec": {
   "display_name": "Python 3",
   "language": "python",
   "name": "python3"
  },
  "language_info": {
   "codemirror_mode": {
    "name": "ipython",
    "version": 3
   },
   "file_extension": ".py",
   "mimetype": "text/x-python",
   "name": "python",
   "nbconvert_exporter": "python",
   "pygments_lexer": "ipython3",
   "version": "3.9.7"
  },
  "orig_nbformat": 4
 },
 "nbformat": 4,
 "nbformat_minor": 2
}
