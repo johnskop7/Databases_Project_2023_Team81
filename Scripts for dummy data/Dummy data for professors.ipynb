{
 "cells": [
  {
   "cell_type": "code",
   "execution_count": 2,
   "metadata": {},
   "outputs": [
    {
     "name": "stdout",
     "output_type": "stream",
     "text": [
      "['1972-08-07', '1969-11-09', '1987-02-28', '1975-03-05', '1969-03-28', '1986-09-15', '1977-09-04', '1982-04-05', '1983-11-29', '1988-06-25', '1970-09-13', '1979-06-17', '1979-12-31', '1989-01-11', '1970-04-10', '1970-08-06', '1984-02-05', '1977-03-18', '1988-03-16', '1995-08-08', '1980-05-14', '1991-10-14', '1983-03-29', '1979-08-25']\n"
     ]
    }
   ],
   "source": [
    "from datetime import datetime, timedelta\n",
    "import random\n",
    "\n",
    "start_date = datetime(1969, 1, 1)  # Start date (1969-01-01)\n",
    "end_date = datetime(1995, 12, 31)  # End date (1995-12-31)\n",
    "\n",
    "dates = []\n",
    "for _ in range(24):\n",
    "    random_date = start_date + timedelta(days=random.randint(0, (end_date - start_date).days))\n",
    "    dates.append(random_date.strftime('%Y-%m-%d'))\n",
    "\n",
    "print(dates)\n"
   ]
  },
  {
   "cell_type": "code",
   "execution_count": 7,
   "metadata": {},
   "outputs": [
    {
     "name": "stdout",
     "output_type": "stream",
     "text": [
      "('Brian Maldonado', 'manderson', 'DD6NEYXoS*', 'ashleyharrison@example.org','167.215.9976x955','1972-08-07','professor','approved','1'),\n",
      "('Sherry Ford', 'danielle21', ')BE5+uLs4A', 'sanchezjohn@example.net','001-032-001-9715x93734','1969-11-09','professor','approved','2'),\n",
      "('Jaime Riley', 'jesse15', ')d9+LU*s3c', 'vbrown@example.org','696.293.3561x297','1987-02-28','professor','approved','3'),\n",
      "('Valerie Owens', 'kvalentine', 'b&x0#Tp9(*', 'jeffreysnyder@example.com','(184)822-9465','1975-03-05','professor','approved','4'),\n",
      "('Katie Henson', 'powersbrandon', '#fb%3LXsdX', 'xjacobs@example.net','+1-705-426-3712x40040','1969-03-28','professor','approved','5'),\n",
      "('Michelle Weaver', 'timothy71', '^o1L^CuqBq', 'kthompson@example.com','869.682.5686x44129','1986-09-15','professor','approved','6'),\n",
      "('Amanda Thomas', 'whiteandre', '#3HVg)+QVI', 'ferrellsara@example.com','001-323-261-0858x7648','1977-09-04','professor','approved','7'),\n",
      "('Christopher Holmes', 'crystaljones', '&y42QUo3e^', 'ruizanthony@example.org','057.862.8822x556','1982-04-05','professor','approved','8'),\n",
      "('Jacqueline Williams', 'taramorris', 'q@d82Vc&r0', 'joshuajacobs@example.net','564-666-9529x7096','1983-11-29','professor','approved','9'),\n",
      "('Michael Warner', 'vickiebarnett', ')*$BPzm+R8', 'natalie43@example.org','216-395-0491','1988-06-25','professor','approved','10'),\n",
      "('Robert Dean', 'dylan64', 'K55Oem&@i&', 'kmcfarland@example.com','001-301-160-5381x45628','1970-09-13','professor','approved','11'),\n",
      "('Jimmy Mccormick', 'michaeladuke', 'x^G4TtBA&y', 'smithjames@example.com','(746)304-6507','1979-06-17','professor','approved','12'),\n",
      "('Christopher Dixon', 'benjamin12', '5Pt5Mt7&X(', 'stephaniegrant@example.org','447.047.9804x820','1979-12-31','professor','approved','13'),\n",
      "('Sabrina Stevens', 'robin13', '1d8hEog)*K', 'brianpowell@example.org','(068)596-0878x755','1989-01-11','professor','approved','14'),\n",
      "('Benjamin Bridges', 'jerryedwards', '$b*R1S8ri7', 'hweber@example.net','310-187-5084','1970-04-10','professor','approved','15'),\n",
      "('Jennifer Wood', 'solisrobert', '*PhANEBrZ2', 'kramervanessa@example.org','001-454-520-0714x340','1970-08-06','professor','approved','16'),\n",
      "('Rebecca Terrell DVM', 'sosatimothy', 'h@DSL9Dx!0', 'ellismary@example.net','3871779967','1984-02-05','professor','approved','17'),\n",
      "('Mikayla Thomas', 'mackenziewoods', 'eF*$v9GiAx', 'englishrichard@example.net','571-593-5531','1977-03-18','professor','approved','18'),\n",
      "('Lucas Pittman', 'jonathanjames', '3PFp1W5k_(', 'kevinsmith@example.net','549-425-3446x89555','1988-03-16','professor','approved','19'),\n",
      "('Joshua Jones', 'danielleburns', '3ke42BKp4*', 'masoneugene@example.net','337-179-6723','1995-08-08','professor','approved','20'),\n",
      "('Sean Mccall', 'kpeters', '%1O&5lJ)u#', 'dennismichael@example.org','581-317-2609x27161','1980-05-14','professor','approved','21'),\n",
      "('Hannah Allen', 'marc82', 'pPR@1EUhC7', 'marissa49@example.org','001-317-727-1690x15922','1991-10-14','professor','approved','22'),\n",
      "('Brian Bryant', 'andersonroger', '72L6*D#z@v', 'ramirezmark@example.net','587-257-4439','1983-03-29','professor','approved','23'),\n",
      "('Lori Duffy', 'annette69', 'a+3DY6Tk(n', 'sparker@example.net','(229)249-8552x061','1979-08-25','professor','approved','24'),\n"
     ]
    }
   ],
   "source": [
    "from faker import Faker\n",
    "import random\n",
    "\n",
    "# Create a Faker instance\n",
    "fake = Faker()\n",
    "for i in range(1,25):\n",
    "    full_name = fake.name()\n",
    "    username = fake.user_name()\n",
    "    password = fake.password()\n",
    "    email = fake.email()\n",
    "    phone_number = fake.phone_number()\n",
    "    date_of_birth = dates[i-1]\n",
    "    role = 'professor'\n",
    "    approval_status = 'approved'\n",
    "    operator_id = i\n",
    "    print(\"('\"+str(full_name)+\"', '\"+str(username)+\"', '\"+str(password)+\"', '\"+str(email)+\"','\"+str(phone_number)+\"','\"+str(date_of_birth)+\"','\"+str(role)+\"','\"+str(approval_status)+\"','\"+str(operator_id)+\"'),\")"
   ]
  }
 ],
 "metadata": {
  "kernelspec": {
   "display_name": "Python 3",
   "language": "python",
   "name": "python3"
  },
  "language_info": {
   "codemirror_mode": {
    "name": "ipython",
    "version": 3
   },
   "file_extension": ".py",
   "mimetype": "text/x-python",
   "name": "python",
   "nbconvert_exporter": "python",
   "pygments_lexer": "ipython3",
   "version": "3.9.7"
  },
  "orig_nbformat": 4
 },
 "nbformat": 4,
 "nbformat_minor": 2
}
