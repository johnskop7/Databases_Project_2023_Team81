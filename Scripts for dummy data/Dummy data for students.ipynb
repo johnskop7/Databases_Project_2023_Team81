{
 "cells": [
  {
   "cell_type": "code",
   "execution_count": 15,
   "metadata": {},
   "outputs": [
    {
     "name": "stdout",
     "output_type": "stream",
     "text": [
      "['2006-01-03', '2006-09-14', '2007-06-29', '2006-10-23', '2007-05-21', '2005-08-02', '2006-04-27', '2005-07-19']\n"
     ]
    }
   ],
   "source": [
    "from datetime import datetime, timedelta\n",
    "import random\n",
    "\n",
    "start_date = datetime(2005, 1, 1)  # Start date (1969-01-01)\n",
    "end_date = datetime(2007, 12, 31)  # End date (1995-12-31)\n",
    "\n",
    "dates = []\n",
    "for _ in range(8):\n",
    "    random_date = start_date + timedelta(days=random.randint(0, (end_date - start_date).days))\n",
    "    dates.append(random_date.strftime('%Y-%m-%d'))\n",
    "\n",
    "print(dates)\n"
   ]
  },
  {
   "cell_type": "code",
   "execution_count": 16,
   "metadata": {},
   "outputs": [
    {
     "name": "stdout",
     "output_type": "stream",
     "text": [
      "('Jackie Carr', 'guerrerowilliam', ')4Xa0F0vRQ', 'aramos@example.com','001-117-485-8034x88814','2005-07-19','student','approved','8'),\n",
      "('Kirk Bean', 'rubenleon', '#0TPq@ebcW', 'jparker@example.org','+1-834-671-1604x4571','2006-01-03','student','approved','8'),\n",
      "('Donald Klein', 'lisaramirez', '*_8QtTmqBF', 'solissandra@example.org','+1-762-024-9888','2006-09-14','student','approved','8'),\n",
      "('Joseph Friedman', 'whiterichard', '+Y#b2YHa%1', 'lambertmark@example.net','235-333-8248x8419','2007-06-29','student','approved','8'),\n",
      "('Theodore Gibson', 'knappsarah', 'N*at2vI0qs', 'wilsonwilliam@example.net','+1-065-547-5999x87842','2006-10-23','student','approved','8'),\n",
      "('Bryan Anthony', 'kjohnson', 'W5$GMU@p+c', 'robyndixon@example.net','001-799-844-7776x6014','2007-05-21','student','approved','8'),\n",
      "('Anthony Stephenson', 'michaelreyes', 'Q&h5Uv4!zl', 'jonathanpatrick@example.org','126-952-6552x27945','2005-08-02','student','approved','8'),\n",
      "('Debra Williams', 'annahicks', '$19I!vphV_', 'james32@example.com','337-208-4511','2006-04-27','student','approved','8'),\n"
     ]
    }
   ],
   "source": [
    "from faker import Faker\n",
    "import random\n",
    "\n",
    "# Create a Faker instance\n",
    "fake = Faker()\n",
    "for i in range(8):\n",
    "    full_name = fake.name()\n",
    "    username = fake.user_name()\n",
    "    password = fake.password()\n",
    "    email = fake.email()\n",
    "    phone_number = fake.phone_number()\n",
    "    date_of_birth = dates[i-1]\n",
    "    role = 'student'\n",
    "    approval_status = 'approved'\n",
    "    operator_id = 8\n",
    "    print(\"('\"+str(full_name)+\"', '\"+str(username)+\"', '\"+str(password)+\"', '\"+str(email)+\"','\"+str(phone_number)+\"','\"+str(date_of_birth)+\"','\"+str(role)+\"','\"+str(approval_status)+\"','\"+str(operator_id)+\"'),\")"
   ]
  }
 ],
 "metadata": {
  "kernelspec": {
   "display_name": "Python 3",
   "language": "python",
   "name": "python3"
  },
  "language_info": {
   "codemirror_mode": {
    "name": "ipython",
    "version": 3
   },
   "file_extension": ".py",
   "mimetype": "text/x-python",
   "name": "python",
   "nbconvert_exporter": "python",
   "pygments_lexer": "ipython3",
   "version": "3.9.7"
  },
  "orig_nbformat": 4
 },
 "nbformat": 4,
 "nbformat_minor": 2
}
